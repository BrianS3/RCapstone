{
 "cells": [
  {
   "cell_type": "markdown",
   "id": "d4cec967-c63a-486a-8020-49b8dda55d8f",
   "metadata": {},
   "source": [
    "<center>\n",
    "<img src=\"https://cf-courses-data.s3.us.cloud-object-storage.appdomain.cloud/IBMDeveloperSkillsNetwork-RP0321EN-SkillsNetwork/labs/module_1/images/SN_web_lightmode.png\" width=\"300\"> \n",
    "</center>\n"
   ]
  },
  {
   "cell_type": "markdown",
   "id": "e3ac61cc-6e8b-43aa-99ea-1c528a905de0",
   "metadata": {},
   "source": [
    "<h1>Web scrape a Global Bike-Sharing Systems Wiki Page</h1>\n",
    "\n",
    "Estimated time needed: **20** minutes\n"
   ]
  },
  {
   "cell_type": "markdown",
   "id": "c720b6bc-78f8-4f55-9208-ccc8404dad20",
   "metadata": {},
   "source": [
    "## Lab Overview:\n",
    "\n",
    "Before getting your hands dirty on the actual data analysis tasks, you first need to obtain some background and context information about well-known bike sharing systems worldwide, such as their location, launch date, rental bike size, and so on.\n",
    "\n",
    "You can get such information from this Wiki page: \n",
    "\n",
    "https://en.wikipedia.org/wiki/List_of_bicycle-sharing_systems\n",
    "\n",
    "<a href=\"https://cognitiveclass.ai/?utm_medium=Exinfluencer&utm_source=Exinfluencer&utm_content=000026UJ&utm_term=10006555&utm_id=NA-SkillsNetwork-Channel-SkillsNetworkCoursesIBMDeveloperSkillsNetworkRP0321ENSkillsNetwork878-2022-01-01\">\n",
    "    <img src=\"https://cf-courses-data.s3.us.cloud-object-storage.appdomain.cloud/IBMDeveloperSkillsNetwork-RP0321EN-SkillsNetwork/labs/module_1/images/l2-list-bike-sharing-systems.png\" width=\"600\" align=\"center\">\n",
    "</a>\n"
   ]
  },
  {
   "cell_type": "markdown",
   "id": "28e3c0d9-d2cc-4b98-b23d-34f9d398cdd2",
   "metadata": {},
   "source": [
    "First import necessary libraries for the webscraping task.\n"
   ]
  },
  {
   "cell_type": "markdown",
   "id": "31226bdb-cb23-4494-a376-a11bceeed16a",
   "metadata": {},
   "source": [
    "\n",
    "In this lab, you need to use the `rvest` library to obtain the bike sharing systems table from the above web page, convert the table into a data frame, and write the data frame to a csv file for future data wrangling and analysis tasks.\n"
   ]
  },
  {
   "cell_type": "code",
   "execution_count": 1,
   "id": "c56973d5-5b95-4abb-80f7-3488054538d0",
   "metadata": {},
   "outputs": [
    {
     "name": "stderr",
     "output_type": "stream",
     "text": [
      "Loading required package: rvest\n",
      "Loading required package: xml2\n",
      "Registered S3 method overwritten by 'rvest':\n",
      "  method            from\n",
      "  read_xml.response xml2\n"
     ]
    }
   ],
   "source": [
    "# Check if need to install rvest` library\n",
    "require(\"rvest\")\n",
    "\n",
    "library(rvest)"
   ]
  },
  {
   "cell_type": "markdown",
   "id": "e39d7828-5e0a-419e-9586-163a5459918f",
   "metadata": {},
   "source": [
    "# TASK: Extract bike sharing systems HTML table from a Wiki page and convert it into a data frame\n"
   ]
  },
  {
   "cell_type": "markdown",
   "id": "7db6fcd6-8271-4b50-b40c-472ed7e9064a",
   "metadata": {},
   "source": [
    "_TODO:_ Get the root HTML node\n"
   ]
  },
  {
   "cell_type": "code",
   "execution_count": 2,
   "id": "d75408d3-dad5-4cd9-a5c3-364516499390",
   "metadata": {},
   "outputs": [],
   "source": [
    "url <- \"https://en.wikipedia.org/wiki/List_of_bicycle-sharing_systems\"\n",
    "# Get the root HTML node by calling the `read_html()` method with URL\n",
    "root_node <- read_html(url)\n",
    "\n",
    "# Get all the child <table> nodes under the root HTML node\n",
    "table_nodes <- html_nodes(root_node, \"table\")"
   ]
  },
  {
   "cell_type": "markdown",
   "id": "5fda4632-e320-4e12-b7cc-1115c9fc6495",
   "metadata": {},
   "source": [
    "Note that this HTML page at least contains three child `<table>` nodes under the root HTML node. So, you will need to use `html_nodes(root_node, \"table\")` function to get all its child `<table>` nodes:\n",
    "\n",
    "```\n",
    "<html>\n",
    "  <table>(table1)</table>\n",
    "  <table>(table2)</table>\n",
    "  <table>(table3)</table>\n",
    "  ...\n",
    "</html>\n",
    "```\n"
   ]
  },
  {
   "cell_type": "markdown",
   "id": "85a60b75-8164-401c-8668-e9c3bdc8a192",
   "metadata": {},
   "source": [
    "table_nodes <- html_nodes(root_node, \"table\")\n"
   ]
  },
  {
   "cell_type": "markdown",
   "id": "35ef394e-2ea7-46d4-bcfe-83027262623f",
   "metadata": {},
   "source": [
    "You can use a `for` loop to print each table, and then you will see that the actual the bike sharing table is the first element `table_nodes[[1]]`.\n"
   ]
  },
  {
   "cell_type": "markdown",
   "id": "2e37b1da-fc5a-4c05-a0b1-f335f55eeb56",
   "metadata": {},
   "source": [
    "Next, you need to convert this HTML table into a data frame using the `html_table()` function. You may choose to include `fill = TRUE` argument to fill any empty table rows/columns.\n"
   ]
  },
  {
   "cell_type": "code",
   "execution_count": 3,
   "id": "4483850c-85b7-4765-a9ce-d15ec1b51433",
   "metadata": {},
   "outputs": [],
   "source": [
    "# Convert the bike-sharing system table into a dataframe\n",
    "bike_sharing_table <- html_table(table_nodes[[1]], fill = TRUE)"
   ]
  },
  {
   "cell_type": "markdown",
   "id": "ecfd6a0a-a0ba-4f64-9476-3a194a4804f3",
   "metadata": {},
   "source": [
    "Summarize the bike sharing system data frame\n"
   ]
  },
  {
   "cell_type": "code",
   "execution_count": 4,
   "id": "85ca8dfb-85d3-4749-91f5-82c9e9ccc5d8",
   "metadata": {},
   "outputs": [
    {
     "data": {
      "text/html": [
       "<table>\n",
       "<thead><tr><th scope=col>Country</th><th scope=col>City</th><th scope=col>Name</th><th scope=col>System</th><th scope=col>Operator</th><th scope=col>Launched</th><th scope=col>Discontinued</th><th scope=col>Stations</th><th scope=col>Bicycles</th><th scope=col>Daily ridership</th></tr></thead>\n",
       "<tbody>\n",
       "\t<tr><td>Albania                     </td><td>Tirana[5]                   </td><td>Ecovolis                    </td><td>                            </td><td>                            </td><td>March 2011                  </td><td>                            </td><td>8                           </td><td>200                         </td><td>                            </td></tr>\n",
       "\t<tr><td>Argentina                   </td><td>Buenos Aires[6][7]          </td><td>Ecobici                     </td><td>Serttel Brasil[8]           </td><td>Bike In Baires Consortium[9]</td><td>2010                        </td><td>                            </td><td>400                         </td><td>4000                        </td><td>21917                       </td></tr>\n",
       "\t<tr><td>Argentina                   </td><td>Mendoza[10]                 </td><td>Metrobici                   </td><td>                            </td><td>                            </td><td>2014                        </td><td>                            </td><td>2                           </td><td>40                          </td><td>                            </td></tr>\n",
       "\t<tr><td>Argentina                   </td><td>Rosario                     </td><td>Mi Bici Tu Bici[11]         </td><td>                            </td><td>                            </td><td>2 December 2015             </td><td>                            </td><td>47                          </td><td>480                         </td><td>                            </td></tr>\n",
       "\t<tr><td>Argentina                   </td><td>San Lorenzo, Santa Fe       </td><td>Biciudad                    </td><td>Biciudad                    </td><td>                            </td><td>27 November 2016            </td><td>                            </td><td>8                           </td><td>80                          </td><td>                            </td></tr>\n",
       "\t<tr><td>Australia                                                           </td><td><span style=white-space:pre-wrap>Melbourne[12]        </span>       </td><td>Melbourne Bike Share                                                </td><td><span style=white-space:pre-wrap>PBSC &amp; 8D        </span>       </td><td><span style=white-space:pre-wrap>Motivate                    </span></td><td><span style=white-space:pre-wrap>June 2010       </span>            </td><td>30 November 2019[13]                                                </td><td>53                                                                  </td><td>676                                                                 </td><td><span style=white-space:pre-wrap>     </span>                       </td></tr>\n",
       "</tbody>\n",
       "</table>\n"
      ],
      "text/latex": [
       "\\begin{tabular}{r|llllllllll}\n",
       " Country & City & Name & System & Operator & Launched & Discontinued & Stations & Bicycles & Daily ridership\\\\\n",
       "\\hline\n",
       "\t Albania                      & Tirana{[}5{]}                & Ecovolis                     &                              &                              & March 2011                   &                              & 8                            & 200                          &                             \\\\\n",
       "\t Argentina                        & Buenos Aires{[}6{]}{[}7{]}       & Ecobici                          & Serttel Brasil{[}8{]}            & Bike In Baires Consortium{[}9{]} & 2010                             &                                  & 400                              & 4000                             & 21917                           \\\\\n",
       "\t Argentina                    & Mendoza{[}10{]}              & Metrobici                    &                              &                              & 2014                         &                              & 2                            & 40                           &                             \\\\\n",
       "\t Argentina                    & Rosario                      & Mi Bici Tu Bici{[}11{]}      &                              &                              & 2 December 2015              &                              & 47                           & 480                          &                             \\\\\n",
       "\t Argentina                    & San Lorenzo, Santa Fe        & Biciudad                     & Biciudad                     &                              & 27 November 2016             &                              & 8                            & 80                           &                             \\\\\n",
       "\t Australia                    & Melbourne{[}12{]}            & Melbourne Bike Share         & PBSC \\& 8D                  & Motivate                     & June 2010                    & 30 November 2019{[}13{]}     & 53                           & 676                          &                             \\\\\n",
       "\\end{tabular}\n"
      ],
      "text/markdown": [
       "\n",
       "| Country | City | Name | System | Operator | Launched | Discontinued | Stations | Bicycles | Daily ridership |\n",
       "|---|---|---|---|---|---|---|---|---|---|\n",
       "| Albania                      | Tirana[5]                    | Ecovolis                     |                              |                              | March 2011                   |                              | 8                            | 200                          |                              |\n",
       "| Argentina                    | Buenos Aires[6][7]           | Ecobici                      | Serttel Brasil[8]            | Bike In Baires Consortium[9] | 2010                         |                              | 400                          | 4000                         | 21917                        |\n",
       "| Argentina                    | Mendoza[10]                  | Metrobici                    |                              |                              | 2014                         |                              | 2                            | 40                           |                              |\n",
       "| Argentina                    | Rosario                      | Mi Bici Tu Bici[11]          |                              |                              | 2 December 2015              |                              | 47                           | 480                          |                              |\n",
       "| Argentina                    | San Lorenzo, Santa Fe        | Biciudad                     | Biciudad                     |                              | 27 November 2016             |                              | 8                            | 80                           |                              |\n",
       "| Australia                    | Melbourne[12]                | Melbourne Bike Share         | PBSC & 8D                    | Motivate                     | June 2010                    | 30 November 2019[13]         | 53                           | 676                          |                              |\n",
       "\n"
      ],
      "text/plain": [
       "  Country   City                  Name                 System           \n",
       "1 Albania   Tirana[5]             Ecovolis                              \n",
       "2 Argentina Buenos Aires[6][7]    Ecobici              Serttel Brasil[8]\n",
       "3 Argentina Mendoza[10]           Metrobici                             \n",
       "4 Argentina Rosario               Mi Bici Tu Bici[11]                   \n",
       "5 Argentina San Lorenzo, Santa Fe Biciudad             Biciudad         \n",
       "6 Australia Melbourne[12]         Melbourne Bike Share PBSC & 8D        \n",
       "  Operator                     Launched         Discontinued         Stations\n",
       "1                              March 2011                            8       \n",
       "2 Bike In Baires Consortium[9] 2010                                  400     \n",
       "3                              2014                                  2       \n",
       "4                              2 December 2015                       47      \n",
       "5                              27 November 2016                      8       \n",
       "6 Motivate                     June 2010        30 November 2019[13] 53      \n",
       "  Bicycles Daily ridership\n",
       "1 200                     \n",
       "2 4000     21917          \n",
       "3 40                      \n",
       "4 480                     \n",
       "5 80                      \n",
       "6 676                     "
      ]
     },
     "metadata": {},
     "output_type": "display_data"
    },
    {
     "data": {
      "text/html": [
       "<ol class=list-inline>\n",
       "\t<li>556</li>\n",
       "\t<li>10</li>\n",
       "</ol>\n"
      ],
      "text/latex": [
       "\\begin{enumerate*}\n",
       "\\item 556\n",
       "\\item 10\n",
       "\\end{enumerate*}\n"
      ],
      "text/markdown": [
       "1. 556\n",
       "2. 10\n",
       "\n",
       "\n"
      ],
      "text/plain": [
       "[1] 556  10"
      ]
     },
     "metadata": {},
     "output_type": "display_data"
    },
    {
     "data": {
      "text/html": [
       "<ol class=list-inline>\n",
       "\t<li>'Country'</li>\n",
       "\t<li>'City'</li>\n",
       "\t<li>'Name'</li>\n",
       "\t<li>'System'</li>\n",
       "\t<li>'Operator'</li>\n",
       "\t<li>'Launched'</li>\n",
       "\t<li>'Discontinued'</li>\n",
       "\t<li>'Stations'</li>\n",
       "\t<li>'Bicycles'</li>\n",
       "\t<li>'Daily ridership'</li>\n",
       "</ol>\n"
      ],
      "text/latex": [
       "\\begin{enumerate*}\n",
       "\\item 'Country'\n",
       "\\item 'City'\n",
       "\\item 'Name'\n",
       "\\item 'System'\n",
       "\\item 'Operator'\n",
       "\\item 'Launched'\n",
       "\\item 'Discontinued'\n",
       "\\item 'Stations'\n",
       "\\item 'Bicycles'\n",
       "\\item 'Daily ridership'\n",
       "\\end{enumerate*}\n"
      ],
      "text/markdown": [
       "1. 'Country'\n",
       "2. 'City'\n",
       "3. 'Name'\n",
       "4. 'System'\n",
       "5. 'Operator'\n",
       "6. 'Launched'\n",
       "7. 'Discontinued'\n",
       "8. 'Stations'\n",
       "9. 'Bicycles'\n",
       "10. 'Daily ridership'\n",
       "\n",
       "\n"
      ],
      "text/plain": [
       " [1] \"Country\"         \"City\"            \"Name\"            \"System\"         \n",
       " [5] \"Operator\"        \"Launched\"        \"Discontinued\"    \"Stations\"       \n",
       " [9] \"Bicycles\"        \"Daily ridership\""
      ]
     },
     "metadata": {},
     "output_type": "display_data"
    },
    {
     "data": {
      "text/plain": [
       "   Country              City               Name              System         \n",
       " Length:556         Length:556         Length:556         Length:556        \n",
       " Class :character   Class :character   Class :character   Class :character  \n",
       " Mode  :character   Mode  :character   Mode  :character   Mode  :character  \n",
       "   Operator           Launched         Discontinued         Stations        \n",
       " Length:556         Length:556         Length:556         Length:556        \n",
       " Class :character   Class :character   Class :character   Class :character  \n",
       " Mode  :character   Mode  :character   Mode  :character   Mode  :character  \n",
       "   Bicycles         Daily ridership   \n",
       " Length:556         Length:556        \n",
       " Class :character   Class :character  \n",
       " Mode  :character   Mode  :character  "
      ]
     },
     "metadata": {},
     "output_type": "display_data"
    }
   ],
   "source": [
    "# Summarize the dataframe\n",
    "# View the first few rows of the dataframe\n",
    "head(bike_sharing_table)\n",
    "\n",
    "# Get the dimensions of the dataframe (number of rows and columns)\n",
    "dim(bike_sharing_table)\n",
    "\n",
    "# Get the names of the columns in the dataframe\n",
    "names(bike_sharing_table)\n",
    "\n",
    "# Get a summary of the dataframe\n",
    "summary(bike_sharing_table)"
   ]
  },
  {
   "cell_type": "markdown",
   "id": "d3dc08f9-1788-4ad0-93d9-444f73daed79",
   "metadata": {},
   "source": [
    "Export the data frame as a csv file called `raw_bike_sharing_systems.csv`\n"
   ]
  },
  {
   "cell_type": "code",
   "execution_count": 5,
   "id": "801ea720-0ceb-494a-8fcc-6e95b3c2d7e7",
   "metadata": {},
   "outputs": [],
   "source": [
    "# Export the dataframe into a csv file\n",
    "write.csv(bike_sharing_table, \"assets/bike_sharing_systems.csv\", row.names = FALSE)"
   ]
  },
  {
   "cell_type": "markdown",
   "id": "d9e075d6-d0dc-47b6-8549-08971bc0b720",
   "metadata": {},
   "source": [
    "For more details about webscraping with `rvest`, please refer to the previous webscraping notebook here:\n",
    "\n",
    "[Webscraping in R](https://cf-courses-data.s3.us.cloud-object-storage.appdomain.cloud/IBMDeveloperSkillsNetwork-RP0101EN-Coursera/v2/M4_Working_With_Data/lab3_jupyter_webscraping.ipynb)\n"
   ]
  },
  {
   "cell_type": "markdown",
   "id": "c65062e3-63a4-4771-be62-7f0564fb53c5",
   "metadata": {},
   "source": [
    "## Authors\n",
    "\n",
    "<a href=\"https://www.linkedin.com/in/yan-luo-96288783/?utm_medium=Exinfluencer&utm_source=Exinfluencer&utm_content=000026UJ&utm_term=10006555&utm_id=NA-SkillsNetwork-Channel-SkillsNetworkCoursesIBMDeveloperSkillsNetworkRP0321ENSkillsNetwork878-2022-01-01\" target=\"_blank\">Yan Luo</a>\n"
   ]
  },
  {
   "cell_type": "markdown",
   "id": "0e196379-bf85-459b-9939-d6c272c08cb0",
   "metadata": {},
   "source": [
    "### Other Contributors\n"
   ]
  },
  {
   "cell_type": "markdown",
   "id": "ce5d5904-452f-42d5-b3f3-ea8582590fd4",
   "metadata": {},
   "source": [
    "## Change Log\n",
    "\n",
    "| Date (YYYY-MM-DD) | Version | Changed By | Change Description           |\n",
    "| ----------------- | ------- | ---------- | ---------------------------- |\n",
    "| 2021-04-05        | 0.1     | Yan        | Initial version created      |\n",
    "|                   |         |            |                              |\n",
    "|                   |         |            |                              |\n",
    "\n",
    "## <h3 align=\"center\"> © IBM Corporation 2021. All rights reserved. <h3/>\n"
   ]
  }
 ],
 "metadata": {
  "kernelspec": {
   "display_name": "R",
   "language": "R",
   "name": "ir"
  },
  "language_info": {
   "codemirror_mode": "r",
   "file_extension": ".r",
   "mimetype": "text/x-r-source",
   "name": "R",
   "pygments_lexer": "r",
   "version": "3.6.1"
  }
 },
 "nbformat": 4,
 "nbformat_minor": 4
}
